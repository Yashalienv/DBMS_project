{
 "cells": [
  {
   "cell_type": "code",
   "execution_count": 17,
   "id": "05f1c1d6",
   "metadata": {},
   "outputs": [],
   "source": [
    "import mysql.connector\n",
    "import pymysql as ps"
   ]
  },
  {
   "cell_type": "code",
   "execution_count": 18,
   "id": "da5e00ba",
   "metadata": {},
   "outputs": [],
   "source": [
    "mydb = mysql.connector.connect(host='localhost',port=3305,user='root',password='Helium@002',db='food')\n",
    "mycursor = mydb.cursor()"
   ]
  },
  {
   "cell_type": "code",
   "execution_count": null,
   "id": "84f264d6",
   "metadata": {},
   "outputs": [
    {
     "name": "stdout",
     "output_type": "stream",
     "text": [
      "Please enter a table name (orders/customer/deliveryexecutive/restuarant/fooditem) to perform create operation:orders\n",
      "Please input a sql query to perform create operation:INSERT INTO `orders` (`OrderID`, `CustomerID`, `ItemID`, `RestuarantID`, `DeliveryID`, `Date`, `Quantity`, `AmountPaid`) VALUES ('O1010', 'C1010', 'I1002', 'R1006', 'D1002', '2022-10-29', 9, 400);\n"
     ]
    },
    {
     "name": "stderr",
     "output_type": "stream",
     "text": [
      "Exception in Tkinter callback\n",
      "Traceback (most recent call last):\n",
      "  File \"C:\\Users\\deept\\anaconda3\\lib\\site-packages\\mysql\\connector\\connection_cext.py\", line 611, in cmd_query\n",
      "    self._cmysql.query(\n",
      "_mysql_connector.MySQLInterfaceError: Lock wait timeout exceeded; try restarting transaction\n",
      "\n",
      "The above exception was the direct cause of the following exception:\n",
      "\n",
      "Traceback (most recent call last):\n",
      "  File \"C:\\Users\\deept\\anaconda3\\lib\\tkinter\\__init__.py\", line 1892, in __call__\n",
      "    return self.func(*args)\n",
      "  File \"C:\\Users\\deept\\AppData\\Local\\Temp\\ipykernel_13968\\2662406110.py\", line 38, in create\n",
      "    mycursor.execute(query)\n",
      "  File \"C:\\Users\\deept\\anaconda3\\lib\\site-packages\\mysql\\connector\\cursor_cext.py\", line 330, in execute\n",
      "    result = self._cnx.cmd_query(\n",
      "  File \"C:\\Users\\deept\\anaconda3\\lib\\site-packages\\mysql\\connector\\connection_cext.py\", line 619, in cmd_query\n",
      "    raise get_mysql_exception(\n",
      "mysql.connector.errors.DatabaseError: 1205 (HY000): Lock wait timeout exceeded; try restarting transaction\n"
     ]
    }
   ],
   "source": [
    "from tkinter import *\n",
    "import tkinter.font as font\n",
    "class MyWindow:\n",
    "    def __init__(self, win):\n",
    "        self.l1 = Label(win, text='CRUD \\n Operations', font= ('Courier 12 bold'))\n",
    "        self.l2 = Label(win, text='Predefined \\n SQL Statements', font= ('Courier 12 bold'))\n",
    "        self.l3 = Label(win, text='Output for Selected Option', font= ('Courier 12 bold'))\n",
    "        self.t = Text(win, wrap= WORD, font= ('Courier 10 bold'))\n",
    "        self.b1 = Button(win, text='Create', command=self.create, font= ('Courier 15 bold'), bg=\"yellow\", fg=\"red\")\n",
    "        self.b2 = Button(win, text='Read', command=self.read, font= ('Courier 15 bold'), bg=\"yellow\", fg=\"red\")\n",
    "        self.b3 = Button(win, text='Update', command=self.update, font= ('Courier 15 bold'), bg=\"yellow\", fg=\"red\")\n",
    "        self.b4 = Button(win, text='Delete', command=self.delete, font= ('Courier 15 bold'), bg=\"yellow\", fg=\"red\")\n",
    "        self.b5 = Button(win, text='Predefined\\n SQL\\n Statement 1', command=self.statement1, font= ('Courier 15 bold'), bg=\"yellow\", fg=\"red\",width=13,height=3)\n",
    "        self.b6 = Button(win, text='Predefined\\n SQL\\n Statement 2', command=self.statement2, font= ('Courier 15 bold'), bg=\"yellow\", fg=\"red\",width=13,height=3)\n",
    "        self.b7 = Button(win, text='Predefined\\n SQL\\n Statement 3', command=self.statement3, font= ('Courier 15 bold'), bg=\"yellow\", fg=\"red\",width=13,height=3)\n",
    "        self.b8 = Button(win, text='Predefined\\n SQL\\n Statement 4', command=self.statement4, font= ('Courier 15 bold'), bg=\"yellow\", fg=\"red\",width=13,height=3)\n",
    "        self.l1.place(x=50, y=40)\n",
    "        self.l2.place(x=200, y=40)\n",
    "        self.l3.place(x=450, y=60)\n",
    "        self.b1.place(x=75, y=125)\n",
    "        self.b2.place(x=75, y=225)\n",
    "        self.b3.place(x=75, y=325)\n",
    "        self.b4.place(x=75, y=425)\n",
    "        self.b5.place(x=200, y=100)\n",
    "        self.b6.place(x=200, y=200)\n",
    "        self.b7.place(x=200, y=300)\n",
    "        self.b8.place(x=200, y=400)\n",
    "        self.t.place(x=400, y=100, width= 350, height= 400)\n",
    "    def create(self):\n",
    "        self.t.delete(\"1.0\",\"end\")\n",
    "        n = input(\"Please enter a table name (orders/customer/deliveryexecutive/restuarant/fooditem) to perform create operation:\")\n",
    "        query1=\"select * from \"+n\n",
    "        mycursor.execute(query1)\n",
    "        rows=mycursor.fetchall()\n",
    "        result = \"Before inserting new rows in \" +n+ \" table:\\n\" + str(rows)\n",
    "        self.t.insert(END, str(result))\n",
    "        query = input(\"Please input a sql query to perform create operation:\")\n",
    "        mycursor.execute(query)\n",
    "        self.t.insert(END, \"\\n Row Inserted \\n\")\n",
    "        query1=\"select * from \"+n\n",
    "        mycursor.execute(query1)\n",
    "        rows=mycursor.fetchall()\n",
    "        result = \"After inserting new row in \"+n+\" table:\\n\" + str(rows)\n",
    "        self.t.insert(END, str(result))\n",
    "    def read(self):\n",
    "        self.t.delete(\"1.0\",\"end\")\n",
    "        n = input(\"Please enter a table name (orders/customer/deliveryexecutive/restuarant/fooditem) to perform create operation:\")\n",
    "        query1=\"select * from \"+n\n",
    "        mycursor.execute(query1)\n",
    "        rows=mycursor.fetchall()\n",
    "        result = \"Records in \"+n+\" table:\\n\" + str(rows)\n",
    "        self.t.insert(END, str(result))\n",
    "    def update(self):\n",
    "        self.t.delete(\"1.0\",\"end\")\n",
    "        n = input(\"Please enter a table name (orders/customer/deliveryexecutive/restuarant/fooditem) to perform update operation:\")\n",
    "        query1=\"select * from \"+n\n",
    "        mycursor.execute(query1)\n",
    "        rows=mycursor.fetchall()\n",
    "        result = \"Before updating row in \" +n+ \" table:\\n\" + str(rows)\n",
    "        self.t.insert(END, str(result))\n",
    "        query = input(\"Please input a sql query to perform update operation:\")\n",
    "        mycursor.execute(query)\n",
    "        self.t.insert(END, \"\\n Row Updated \\n\")\n",
    "        query1=\"select * from \"+n\n",
    "        mycursor.execute(query1)\n",
    "        rows=mycursor.fetchall()\n",
    "        result = \"After updating row in \"+n+\" table:\\n\" + str(rows)\n",
    "        self.t.insert(END, str(result))\n",
    "    def delete(self):\n",
    "        self.t.delete(\"1.0\",\"end\")\n",
    "        n = input(\"Please enter a table name (orders/customer/deliveryexecutive/restuarant/fooditem) to perform delete operation:\")\n",
    "        query1=\"select * from \"+n\n",
    "        mycursor.execute(query1)\n",
    "        rows=mycursor.fetchall()\n",
    "        result = \"Before deleting a row in \" +n+ \" table:\\n\" + str(rows)\n",
    "        self.t.insert(END, str(result))\n",
    "        query = input(\"Please input a sql query to perform delete operation:\")\n",
    "        mycursor.execute(query)\n",
    "        self.t.insert(END, \"\\n Row Deleted \\n\")\n",
    "        query1=\"select * from \"+n\n",
    "        mycursor.execute(query1)\n",
    "        rows=mycursor.fetchall()\n",
    "        result = \"After deleting a row in \"+n+\" table:\\n\" + str(rows)\n",
    "        self.t.insert(END, str(result))\n",
    "    def statement1(self):\n",
    "        self.t.delete(\"1.0\",\"end\")\n",
    "        query1=\"select * from customer\"\n",
    "        mycursor.execute(query1)\n",
    "        rows=mycursor.fetchall()\n",
    "        result = \"Printing rows in Customer table:\\n\" + str(rows)\n",
    "        self.t.insert(END, str(result))\n",
    "    def statement2(self):\n",
    "        self.t.delete(\"1.0\",\"end\")\n",
    "        query1=\"select * from restuarant\"\n",
    "        mycursor.execute(query1)\n",
    "        rows=mycursor.fetchall()\n",
    "        result = \"Printing rows in Restuarant table:\\n\" + str(rows)\n",
    "        self.t.insert(END, str(result))\n",
    "    def statement3(self):\n",
    "        self.t.delete(\"1.0\",\"end\")\n",
    "        query1=\"select * from deliveryExecutive\"\n",
    "        mycursor.execute(query1)\n",
    "        rows=mycursor.fetchall()\n",
    "        result = \"Printing rows in DeliveryExecutive table:\\n\" + str(rows)\n",
    "        self.t.insert(END, str(result))\n",
    "    def statement4(self):\n",
    "        self.t.delete(\"1.0\",\"end\")\n",
    "        query1=\"select * from orders\"\n",
    "        mycursor.execute(query1)\n",
    "        rows=mycursor.fetchall()\n",
    "        result = \"Printing rows in Orders table:\\n\" + str(rows)\n",
    "        self.t.insert(END, str(result))\n",
    "window=Tk()\n",
    "mywin=MyWindow(window)\n",
    "window.title('Introduction to Database System')\n",
    "window.geometry(\"800x600\")\n",
    "window.configure(bg='grey')\n",
    "window.mainloop()"
   ]
  },
  {
   "cell_type": "code",
   "execution_count": 2,
   "id": "b33352c8",
   "metadata": {},
   "outputs": [
    {
     "name": "stderr",
     "output_type": "stream",
     "text": [
      "WARNING: pip is being invoked by an old script wrapper. This will fail in a future version of pip.\n",
      "Please see https://github.com/pypa/pip/issues/5599 for advice on fixing the underlying issue.\n",
      "To avoid this problem you can invoke Python with '-m pip' instead of running pip directly.\n"
     ]
    },
    {
     "data": {
      "text/html": [
       "<pre style=\"white-space:pre;overflow-x:auto;line-height:normal;font-family:Menlo,'DejaVu Sans Mono',consolas,'Courier New',monospace\">Requirement already satisfied: mysql-connector-python-rf in d:\\anaconda\\lib\\site-packages (2.2.2)\n",
       "</pre>\n"
      ],
      "text/plain": [
       "Requirement already satisfied: mysql-connector-python-rf in d:\\anaconda\\lib\\site-packages (2.2.2)\n"
      ]
     },
     "metadata": {},
     "output_type": "display_data"
    },
    {
     "data": {
      "text/plain": [
       "0"
      ]
     },
     "execution_count": 2,
     "metadata": {},
     "output_type": "execute_result"
    }
   ],
   "source": [
    "import pip\n",
    "pip.main(['install','mysql-connector-python-rf'])"
   ]
  },
  {
   "cell_type": "code",
   "execution_count": 3,
   "id": "a72854cf",
   "metadata": {},
   "outputs": [
    {
     "ename": "ModuleNotFoundError",
     "evalue": "No module named 'pymysql'",
     "output_type": "error",
     "traceback": [
      "\u001b[1;31m---------------------------------------------------------------------------\u001b[0m",
      "\u001b[1;31mModuleNotFoundError\u001b[0m                       Traceback (most recent call last)",
      "Cell \u001b[1;32mIn[3], line 2\u001b[0m\n\u001b[0;32m      1\u001b[0m \u001b[38;5;28;01mimport\u001b[39;00m \u001b[38;5;21;01mmysql\u001b[39;00m\u001b[38;5;21;01m.\u001b[39;00m\u001b[38;5;21;01mconnector\u001b[39;00m\n\u001b[1;32m----> 2\u001b[0m \u001b[38;5;28;01mimport\u001b[39;00m \u001b[38;5;21;01mpymysql\u001b[39;00m \u001b[38;5;28;01mas\u001b[39;00m \u001b[38;5;21;01mps\u001b[39;00m\n",
      "\u001b[1;31mModuleNotFoundError\u001b[0m: No module named 'pymysql'"
     ]
    }
   ],
   "source": [
    "import mysql.connector\n",
    "import pymysql as ps"
   ]
  },
  {
   "cell_type": "code",
   "execution_count": 4,
   "id": "50bb8d9f",
   "metadata": {},
   "outputs": [
    {
     "ename": "SyntaxError",
     "evalue": "invalid syntax (2256863971.py, line 2)",
     "output_type": "error",
     "traceback": [
      "\u001b[1;36m  Cell \u001b[1;32mIn[4], line 2\u001b[1;36m\u001b[0m\n\u001b[1;33m    sudo pip install PyMySQL\u001b[0m\n\u001b[1;37m         ^\u001b[0m\n\u001b[1;31mSyntaxError\u001b[0m\u001b[1;31m:\u001b[0m invalid syntax\n"
     ]
    }
   ],
   "source": [
    "import pip\n",
    "sudo pip install PyMySQL"
   ]
  },
  {
   "cell_type": "code",
   "execution_count": 7,
   "id": "3b798cf6",
   "metadata": {},
   "outputs": [
    {
     "ename": "SyntaxError",
     "evalue": "invalid syntax (12125169.py, line 1)",
     "output_type": "error",
     "traceback": [
      "\u001b[1;36m  Cell \u001b[1;32mIn[7], line 1\u001b[1;36m\u001b[0m\n\u001b[1;33m    sudo apt-get install python-pip\u001b[0m\n\u001b[1;37m         ^\u001b[0m\n\u001b[1;31mSyntaxError\u001b[0m\u001b[1;31m:\u001b[0m invalid syntax\n"
     ]
    }
   ],
   "source": [
    "sudo apt-get install python-pip  \n",
    "\n",
    "sudo pip install PyMySQL\n",
    "sudo pip2 install PyMySQL \n",
    "sudo pip3 install PyMySQL "
   ]
  },
  {
   "cell_type": "code",
   "execution_count": null,
   "id": "9763caee",
   "metadata": {},
   "outputs": [],
   "source": []
  },
  {
   "cell_type": "code",
   "execution_count": null,
   "id": "cfe1c7dc",
   "metadata": {},
   "outputs": [],
   "source": []
  },
  {
   "cell_type": "code",
   "execution_count": null,
   "id": "205f4044",
   "metadata": {},
   "outputs": [],
   "source": []
  }
 ],
 "metadata": {
  "kernelspec": {
   "display_name": "Python 3 (ipykernel)",
   "language": "python",
   "name": "python3"
  },
  "language_info": {
   "codemirror_mode": {
    "name": "ipython",
    "version": 3
   },
   "file_extension": ".py",
   "mimetype": "text/x-python",
   "name": "python",
   "nbconvert_exporter": "python",
   "pygments_lexer": "ipython3",
   "version": "3.9.13"
  }
 },
 "nbformat": 4,
 "nbformat_minor": 5
}
